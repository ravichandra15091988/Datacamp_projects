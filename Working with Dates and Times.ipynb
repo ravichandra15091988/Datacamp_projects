{
 "cells": [
  {
   "cell_type": "markdown",
   "id": "f321bbbb",
   "metadata": {},
   "source": [
    "# Dates and Calenders"
   ]
  },
  {
   "cell_type": "code",
   "execution_count": 3,
   "id": "259c9bb7",
   "metadata": {},
   "outputs": [
    {
     "name": "stdout",
     "output_type": "stream",
     "text": [
      "2\n"
     ]
    }
   ],
   "source": [
    "## Which day of the week\n",
    "from datetime import date\n",
    "hurricane = date(1992,8,26)\n",
    "print(hurricane.weekday())"
   ]
  },
  {
   "cell_type": "markdown",
   "id": "9309b862",
   "metadata": {},
   "source": [
    "## How many hurricanes come early"
   ]
  },
  {
   "cell_type": "code",
   "execution_count": 21,
   "id": "d22abe69",
   "metadata": {},
   "outputs": [
    {
     "name": "stdout",
     "output_type": "stream",
     "text": [
      "0\n"
     ]
    }
   ],
   "source": [
    "import datetime\n",
    "florida_hurricane_dates = [datetime.date(1950, 8, 31), datetime.date(1950, 6, 5), datetime.date(1950, 10, 18), \n",
    "                           datetime.date(1950, 10, 21), datetime.date(1951, 5, 18), datetime.date(1951, 10, 2),\n",
    "                           datetime.date(1952, 2, 3), datetime.date(1952, 8, 30), datetime.date(1953, 6, 6), \n",
    "                           datetime.date(1953, 8, 29)]\n",
    "# Counter for how many before june 1\n",
    "early_hurricanes = 0\n",
    "\n",
    "for hurricanes in florida_hurricane_dates:\n",
    "    if hurricane.month < 6:\n",
    "        early_hurricanes = early_hurricanes + 1 \n",
    "\n",
    "print(early_hurricanes)\n",
    "    "
   ]
  },
  {
   "cell_type": "code",
   "execution_count": 20,
   "id": "b018c1c7",
   "metadata": {},
   "outputs": [
    {
     "name": "stdout",
     "output_type": "stream",
     "text": [
      "2\n"
     ]
    }
   ],
   "source": [
    " # Counter for how many before June 1\n",
    "early_hurricanes = 0\n",
    "    \n",
    "# We loop over the dates\n",
    "for hurricane in florida_hurricane_dates:\n",
    "    \"  # Check if the month is before June (month number 6)\\n\",\n",
    "    if hurricane.month < 6:\n",
    "        early_hurricanes = early_hurricanes + 1\n",
    "\n",
    "print(early_hurricanes)"
   ]
  },
  {
   "cell_type": "markdown",
   "id": "35bf6467",
   "metadata": {},
   "source": [
    "## Subtracting dates"
   ]
  },
  {
   "cell_type": "code",
   "execution_count": 22,
   "id": "7d7684fd",
   "metadata": {},
   "outputs": [
    {
     "name": "stdout",
     "output_type": "stream",
     "text": [
      "216\n"
     ]
    }
   ],
   "source": [
    "from datetime import date\n",
    "start = date(2007,5,9)\n",
    "end = date(2007, 12, 11)\n",
    "print((end-start).days)"
   ]
  },
  {
   "cell_type": "markdown",
   "id": "8d661cb1",
   "metadata": {},
   "source": [
    "## Counting events per calender month"
   ]
  },
  {
   "cell_type": "code",
   "execution_count": 23,
   "id": "f6e8a5f1",
   "metadata": {},
   "outputs": [
    {
     "name": "stdout",
     "output_type": "stream",
     "text": [
      "{1: 0, 2: 1, 3: 0, 4: 0, 5: 1, 6: 2, 7: 0, 8: 3, 9: 0, 10: 3, 11: 0, 12: 0}\n"
     ]
    }
   ],
   "source": [
    "hurricanes_each_month = {1:0,2:0,3:0,4:0,5:0,6:0,7:0,8:0,9:0,10:0,11:0,12:0}\n",
    "\n",
    "for hurricane in florida_hurricane_dates:\n",
    "    month = hurricane.month\n",
    "    hurricanes_each_month[month] += 1\n",
    "\n",
    "print(hurricanes_each_month)"
   ]
  },
  {
   "cell_type": "markdown",
   "id": "9a01dd34",
   "metadata": {},
   "source": [
    "## Putting a list of dates in order"
   ]
  },
  {
   "cell_type": "code",
   "execution_count": 31,
   "id": "c24ee7fa",
   "metadata": {},
   "outputs": [
    {
     "name": "stdout",
     "output_type": "stream",
     "text": [
      "1988-08-04\n",
      "2009-08-21\n",
      "1971-09-01\n",
      "2009-08-21\n"
     ]
    }
   ],
   "source": [
    "dates_scrambled = [datetime.date(1988, 8, 4), datetime.date(1990, 10, 12), datetime.date(2003, 4, 20), \n",
    "                   datetime.date(1971, 9, 1), datetime.date(1988, 8, 23), datetime.date(1994, 8, 15), \n",
    "                   datetime.date(2002, 8, 4), datetime.date(1988, 5, 30), datetime.date(2003, 9, 13), \n",
    "                   datetime.date(2009, 8, 21)]\n",
    "\n",
    "print(dates_scrambled[0])\n",
    "print(dates_scrambled[-1])\n",
    "\n",
    "## put the dates in order\n",
    "\n",
    "sort_dates = sorted(dates_scrambled)\n",
    "print(sort_dates[0])\n",
    "print(sort_dates[-1])"
   ]
  },
  {
   "cell_type": "code",
   "execution_count": 36,
   "id": "0bee0f39",
   "metadata": {},
   "outputs": [
    {
     "name": "stdout",
     "output_type": "stream",
     "text": [
      "ISO:  Our earliest hurricane date is: 1950-06-05\n",
      "US:  Our earliest hurricane date is: 06-05-1950\n"
     ]
    }
   ],
   "source": [
    "## Printing dates in a friendly format\n",
    "\n",
    "first_date = min(florida_hurricane_dates)\n",
    "\n",
    "iso = \"Our earliest hurricane date is: \" + first_date.isoformat()\n",
    "us = 'Our earliest hurricane date is: ' + first_date.strftime('%m-%d-%Y')\n",
    "\n",
    "print('ISO: ', iso)\n",
    "print('US: ', us)"
   ]
  },
  {
   "cell_type": "code",
   "execution_count": 39,
   "id": "59ae7f69",
   "metadata": {},
   "outputs": [
    {
     "name": "stdout",
     "output_type": "stream",
     "text": [
      "1992 - 08\n",
      "1992\n",
      "1992 - 08/06/92\n"
     ]
    }
   ],
   "source": [
    "## Representing dates in different ways\n",
    "\n",
    "from datetime import date\n",
    "\n",
    "andrew = date(1992, 8 ,6)\n",
    "\n",
    "print(andrew.strftime(\"%Y - %m\"))\n",
    "print(andrew.strftime('%Y'))\n",
    "print(andrew.strftime('%Y - %D'))"
   ]
  },
  {
   "cell_type": "markdown",
   "id": "c8cc7edb",
   "metadata": {},
   "source": [
    "## Combining Dates and Times"
   ]
  },
  {
   "cell_type": "code",
   "execution_count": 42,
   "id": "d5884fec",
   "metadata": {},
   "outputs": [
    {
     "name": "stdout",
     "output_type": "stream",
     "text": [
      "2017-10-01T15:26:26\n"
     ]
    }
   ],
   "source": [
    "from datetime import datetime\n",
    "\n",
    "dt = datetime(2017, 10, 1, 15, 26, 26)\n",
    "\n",
    "print(dt.isoformat())"
   ]
  },
  {
   "cell_type": "code",
   "execution_count": 44,
   "id": "df5d69da",
   "metadata": {},
   "outputs": [
    {
     "name": "stdout",
     "output_type": "stream",
     "text": [
      "1917-10-01 13:34:34\n"
     ]
    }
   ],
   "source": [
    "from datetime import datetime\n",
    "\n",
    "dt = datetime(2017, 10, 1, 13, 34, 34)\n",
    "\n",
    "dt_old = dt.replace(year = 1917)\n",
    "\n",
    "print(dt_old)"
   ]
  },
  {
   "cell_type": "code",
   "execution_count": 47,
   "id": "639e1a8e",
   "metadata": {},
   "outputs": [
    {
     "name": "stdout",
     "output_type": "stream",
     "text": [
      "{'AM': 0, 'PM': 4}\n"
     ]
    }
   ],
   "source": [
    "## Counting events before and afternoon\n",
    "import datetime\n",
    "\n",
    "onebike_datetimes = [{'start': datetime.datetime(2017, 12, 29, 15, 8, 26), 'end': datetime.datetime(2017, 12, 29, 15, 18, 51)},\n",
    "                     {'start': datetime.datetime(2017, 12, 29, 20, 33, 34), 'end': datetime.datetime(2017, 12, 29, 20, 38, 13)}, \n",
    "                     {'start': datetime.datetime(2017, 12, 30, 13, 51, 3), 'end': datetime.datetime(2017, 12, 30, 13, 54, 33)}, \n",
    "                     {'start': datetime.datetime(2017, 12, 30, 15, 9, 3), 'end': datetime.datetime(2017, 12, 30, 15, 19, 13)}]\n",
    "\n",
    "trip_counts = {'AM': 0, 'PM': 0}\n",
    "\n",
    "for trip in onebike_datetimes:\n",
    "    if trip['start'].hour < 12:\n",
    "        trip_counts['AM'] += 1\n",
    "    else:\n",
    "        trip_counts['PM'] += 1\n",
    "\n",
    "print(trip_counts)"
   ]
  },
  {
   "cell_type": "code",
   "execution_count": 48,
   "id": "673d4c77",
   "metadata": {},
   "outputs": [
    {
     "name": "stdout",
     "output_type": "stream",
     "text": [
      "2017-12-01 00:00:01\n"
     ]
    }
   ],
   "source": [
    "## Turning strings into datetimes\n",
    "\n",
    "from datetime import datetime\n",
    "\n",
    "## Startin string in 'YYYY-MM-DD HH:MM:SS'\n",
    "s = '2017-12-01 00:00:01'\n",
    "\n",
    "fmt = '%Y-%m-%d %H:%M:%S'\n",
    "\n",
    "d = datetime.strptime(s, fmt)\n",
    "print(d)"
   ]
  },
  {
   "cell_type": "markdown",
   "id": "63e1b709",
   "metadata": {},
   "source": [
    "## Parsing pairs of strings as datetimes"
   ]
  },
  {
   "cell_type": "code",
   "execution_count": 54,
   "id": "6d7455a2",
   "metadata": {},
   "outputs": [
    {
     "name": "stdout",
     "output_type": "stream",
     "text": [
      "{'start': datetime.datetime(2017, 12, 30, 15, 9, 3), 'end': datetime.datetime(2017, 12, 30, 15, 19, 13)}\n"
     ]
    }
   ],
   "source": [
    "onebike_datetime_strings = [('2017-12-25 13:46:44', '2017-12-25 14:20:50'), ('2017-12-26 10:40:16', '2017-12-26 10:53:45'), \n",
    "                           ('2017-12-27 16:56:12', '2017-12-27 17:17:39'), ('2017-12-29 06:02:34', '2017-12-29 06:12:30'), \n",
    "                           ('2017-12-29 12:21:03', '2017-12-29 12:46:16'), ('2017-12-29 14:32:55', '2017-12-29 14:43:46'), \n",
    "                           ('2017-12-29 15:08:26', '2017-12-29 15:18:51'), ('2017-12-29 20:33:34', '2017-12-29 20:38:13'), \n",
    "                           ('2017-12-30 13:51:03', '2017-12-30 13:54:33'), ('2017-12-30 15:09:03', '2017-12-30 15:19:13')]\n",
    "\n",
    "## Write down the format date\n",
    "\n",
    "fmt = '%Y-%m-%d %H:%M:%S'\n",
    "\n",
    "onebike_dates = []\n",
    "\n",
    "for (start, end) in onebike_datetime_strings:\n",
    "    trip = {'start': datetime.strptime(start, fmt),\n",
    "           'end': datetime.strptime(end, fmt)}\n",
    "    \n",
    "    onebike_dates.append(trip)\n",
    "\n",
    "print(onebike_dates[-1])"
   ]
  },
  {
   "cell_type": "markdown",
   "id": "bf7f569a",
   "metadata": {},
   "source": [
    "## Recreating iso format with strftime()"
   ]
  },
  {
   "cell_type": "code",
   "execution_count": 55,
   "id": "c925a343",
   "metadata": {},
   "outputs": [
    {
     "name": "stdout",
     "output_type": "stream",
     "text": [
      "2017-12-25T13:46:44\n",
      "2017-12-25T13:46:44\n"
     ]
    }
   ],
   "source": [
    "first_start = onebike_dates[0]['start']\n",
    "\n",
    "fmt = '%Y-%m-%dT%H:%M:%S'\n",
    "\n",
    "print(first_start.isoformat())\n",
    "print(first_start.strftime(fmt))"
   ]
  },
  {
   "cell_type": "markdown",
   "id": "7ced7539",
   "metadata": {},
   "source": [
    "## Unix Timestamps"
   ]
  },
  {
   "cell_type": "code",
   "execution_count": 57,
   "id": "7131080d",
   "metadata": {},
   "outputs": [
    {
     "name": "stdout",
     "output_type": "stream",
     "text": [
      "[datetime.datetime(2017, 12, 31, 1, 49, 13), datetime.datetime(2017, 12, 31, 1, 39, 3)]\n"
     ]
    }
   ],
   "source": [
    "timestamps = [1514665153, 1514664543]\n",
    "\n",
    "dts = []\n",
    "\n",
    "for ts in timestamps:\n",
    "    dts.append(datetime.fromtimestamp(ts))\n",
    "\n",
    "print(dts)"
   ]
  },
  {
   "cell_type": "markdown",
   "id": "67f29a80",
   "metadata": {},
   "source": [
    "## Turning datetimes into durations"
   ]
  },
  {
   "cell_type": "code",
   "execution_count": 59,
   "id": "cd99944a",
   "metadata": {},
   "outputs": [],
   "source": [
    "onebike_durations = []\n",
    "\n",
    "for trip in onebike_dates:\n",
    "    time_duration = trip['end'] - trip['start']\n",
    "    \n",
    "    trip_length_secs = time_duration.total_seconds()\n",
    "    onebike_durations.append(trip_length_secs)"
   ]
  },
  {
   "cell_type": "markdown",
   "id": "20e270b8",
   "metadata": {},
   "source": [
    "### Average trip time"
   ]
  },
  {
   "cell_type": "code",
   "execution_count": 61,
   "id": "00d64dc8",
   "metadata": {},
   "outputs": [
    {
     "data": {
      "text/plain": [
       "862.6"
      ]
     },
     "execution_count": 61,
     "metadata": {},
     "output_type": "execute_result"
    }
   ],
   "source": [
    "total_elapsed_time = sum(onebike_durations)\n",
    "\n",
    "no_of_trips = len(onebike_durations)\n",
    "\n",
    "avg_time = total_elapsed_time / no_of_trips\n",
    "avg_time"
   ]
  },
  {
   "cell_type": "markdown",
   "id": "2b3b2438",
   "metadata": {},
   "source": [
    "### The long and short of why time is hard\n",
    "\n"
   ]
  },
  {
   "cell_type": "code",
   "execution_count": 65,
   "id": "0dcd71fb",
   "metadata": {},
   "outputs": [
    {
     "name": "stdout",
     "output_type": "stream",
     "text": [
      "The shortest route wass: 210.0 seconds\n",
      "The longest route was: 2046.0 seconds\n"
     ]
    }
   ],
   "source": [
    "\n",
    "shortest_path = min(onebike_durations)\n",
    "longest_path = max(onebike_durations)\n",
    "\n",
    "print('The shortest route wass: '+ '{}' .format(shortest_path) +' seconds')\n",
    "print('The longest route was: '+ '{}'.format(longest_path) +' seconds')"
   ]
  },
  {
   "cell_type": "markdown",
   "id": "d299ee4e",
   "metadata": {},
   "source": [
    "## Timezones and Daylight saving"
   ]
  },
  {
   "cell_type": "code",
   "execution_count": 66,
   "id": "79db51dd",
   "metadata": {},
   "outputs": [
    {
     "name": "stdout",
     "output_type": "stream",
     "text": [
      "2017-10-01T15:26:26+00:00\n"
     ]
    }
   ],
   "source": [
    "from datetime import datetime, timezone\n",
    "\n",
    "dt = datetime(2017, 10, 1, 15, 26, 26, tzinfo = timezone.utc)\n",
    "\n",
    "print(dt.isoformat())"
   ]
  },
  {
   "cell_type": "code",
   "execution_count": 67,
   "id": "22fcb23c",
   "metadata": {},
   "outputs": [
    {
     "name": "stdout",
     "output_type": "stream",
     "text": [
      "2017-10-01 15:26:26-08:00\n"
     ]
    }
   ],
   "source": [
    "from datetime import datetime, timedelta, timezone\n",
    "\n",
    "pst = timezone(timedelta(hours= -8))\n",
    "\n",
    "dt = datetime(2017, 10, 1, 15, 26, 26, tzinfo = pst)\n",
    "print(dt)"
   ]
  },
  {
   "cell_type": "code",
   "execution_count": 68,
   "id": "14ba080d",
   "metadata": {},
   "outputs": [
    {
     "name": "stdout",
     "output_type": "stream",
     "text": [
      "2017-10-01 15:26:26+11:00\n"
     ]
    }
   ],
   "source": [
    "from datetime import datetime, timezone, timedelta\n",
    "\n",
    "aedt = timezone(timedelta(hours = 11))\n",
    "dt = datetime(2017, 10, 1, 15, 26, 26, tzinfo = aedt)\n",
    "\n",
    "print(dt)\n"
   ]
  },
  {
   "cell_type": "markdown",
   "id": "c80025d0",
   "metadata": {},
   "source": [
    "## Setting timezones"
   ]
  },
  {
   "cell_type": "code",
   "execution_count": 69,
   "id": "ff92f4c6",
   "metadata": {},
   "outputs": [],
   "source": [
    "edt = timezone(timedelta(hours = -4))\n",
    "\n",
    "for trip in onebike_dates[:10]:\n",
    "    trip['start'] = trip['start'].replace(tzinfo = edt)\n",
    "    trip['end'] = trip['end'].replace(tzinfo = edt)\n",
    "        "
   ]
  },
  {
   "cell_type": "markdown",
   "id": "b35eeec9",
   "metadata": {},
   "source": [
    "### WHat time did bike leave in the UTC\n"
   ]
  },
  {
   "cell_type": "code",
   "execution_count": 75,
   "id": "fbc57f51",
   "metadata": {},
   "outputs": [
    {
     "name": "stdout",
     "output_type": "stream",
     "text": [
      "Original: 2017-12-25 13:46:44-04:00 | UTC: 2017-12-25T17:46:44+00:00\n",
      "Original: 2017-12-26 10:40:16-04:00 | UTC: 2017-12-26T14:40:16+00:00\n",
      "Original: 2017-12-27 16:56:12-04:00 | UTC: 2017-12-27T20:56:12+00:00\n",
      "Original: 2017-12-29 06:02:34-04:00 | UTC: 2017-12-29T10:02:34+00:00\n",
      "Original: 2017-12-29 12:21:03-04:00 | UTC: 2017-12-29T16:21:03+00:00\n",
      "Original: 2017-12-29 14:32:55-04:00 | UTC: 2017-12-29T18:32:55+00:00\n",
      "Original: 2017-12-29 15:08:26-04:00 | UTC: 2017-12-29T19:08:26+00:00\n",
      "Original: 2017-12-29 20:33:34-04:00 | UTC: 2017-12-30T00:33:34+00:00\n",
      "Original: 2017-12-30 13:51:03-04:00 | UTC: 2017-12-30T17:51:03+00:00\n",
      "Original: 2017-12-30 15:09:03-04:00 | UTC: 2017-12-30T19:09:03+00:00\n"
     ]
    }
   ],
   "source": [
    "for trip in onebike_dates[:10]:\n",
    "    dt = trip['start'].astimezone(timezone.utc)\n",
    "    \n",
    "    print('Original:', trip['start'], '| UTC:', dt.isoformat())"
   ]
  },
  {
   "cell_type": "markdown",
   "id": "a71cc035",
   "metadata": {},
   "source": [
    "# Easy and Powerful: Dates and Times in Pandas"
   ]
  },
  {
   "cell_type": "code",
   "execution_count": 80,
   "id": "5f7903cc",
   "metadata": {},
   "outputs": [
    {
     "name": "stdout",
     "output_type": "stream",
     "text": [
      "Start date                        2017-10-01 15:23:25\n",
      "End date                          2017-10-01 15:26:26\n",
      "Start station number                            31038\n",
      "Start station                    Glebe Rd & 11th St N\n",
      "End station number                              31036\n",
      "End station             George Mason Dr & Wilson Blvd\n",
      "Bike number                                    W20529\n",
      "Member type                                    Member\n",
      "Name: 0, dtype: object\n"
     ]
    },
    {
     "data": {
      "text/html": [
       "<div>\n",
       "<style scoped>\n",
       "    .dataframe tbody tr th:only-of-type {\n",
       "        vertical-align: middle;\n",
       "    }\n",
       "\n",
       "    .dataframe tbody tr th {\n",
       "        vertical-align: top;\n",
       "    }\n",
       "\n",
       "    .dataframe thead th {\n",
       "        text-align: right;\n",
       "    }\n",
       "</style>\n",
       "<table border=\"1\" class=\"dataframe\">\n",
       "  <thead>\n",
       "    <tr style=\"text-align: right;\">\n",
       "      <th></th>\n",
       "      <th>Start date</th>\n",
       "      <th>End date</th>\n",
       "      <th>Start station number</th>\n",
       "      <th>Start station</th>\n",
       "      <th>End station number</th>\n",
       "      <th>End station</th>\n",
       "      <th>Bike number</th>\n",
       "      <th>Member type</th>\n",
       "    </tr>\n",
       "  </thead>\n",
       "  <tbody>\n",
       "    <tr>\n",
       "      <th>0</th>\n",
       "      <td>2017-10-01 15:23:25</td>\n",
       "      <td>2017-10-01 15:26:26</td>\n",
       "      <td>31038</td>\n",
       "      <td>Glebe Rd &amp; 11th St N</td>\n",
       "      <td>31036</td>\n",
       "      <td>George Mason Dr &amp; Wilson Blvd</td>\n",
       "      <td>W20529</td>\n",
       "      <td>Member</td>\n",
       "    </tr>\n",
       "    <tr>\n",
       "      <th>1</th>\n",
       "      <td>2017-10-01 15:42:57</td>\n",
       "      <td>2017-10-01 17:49:59</td>\n",
       "      <td>31036</td>\n",
       "      <td>George Mason Dr &amp; Wilson Blvd</td>\n",
       "      <td>31036</td>\n",
       "      <td>George Mason Dr &amp; Wilson Blvd</td>\n",
       "      <td>W20529</td>\n",
       "      <td>Casual</td>\n",
       "    </tr>\n",
       "    <tr>\n",
       "      <th>2</th>\n",
       "      <td>2017-10-02 06:37:10</td>\n",
       "      <td>2017-10-02 06:42:53</td>\n",
       "      <td>31036</td>\n",
       "      <td>George Mason Dr &amp; Wilson Blvd</td>\n",
       "      <td>31037</td>\n",
       "      <td>Ballston Metro / N Stuart &amp; 9th St N</td>\n",
       "      <td>W20529</td>\n",
       "      <td>Member</td>\n",
       "    </tr>\n",
       "    <tr>\n",
       "      <th>3</th>\n",
       "      <td>2017-10-02 08:56:45</td>\n",
       "      <td>2017-10-02 09:18:03</td>\n",
       "      <td>31037</td>\n",
       "      <td>Ballston Metro / N Stuart &amp; 9th St N</td>\n",
       "      <td>31295</td>\n",
       "      <td>Potomac &amp; M St NW</td>\n",
       "      <td>W20529</td>\n",
       "      <td>Member</td>\n",
       "    </tr>\n",
       "    <tr>\n",
       "      <th>4</th>\n",
       "      <td>2017-10-02 18:23:48</td>\n",
       "      <td>2017-10-02 18:45:05</td>\n",
       "      <td>31295</td>\n",
       "      <td>Potomac &amp; M St NW</td>\n",
       "      <td>31230</td>\n",
       "      <td>Metro Center / 12th &amp; G St NW</td>\n",
       "      <td>W20529</td>\n",
       "      <td>Member</td>\n",
       "    </tr>\n",
       "  </tbody>\n",
       "</table>\n",
       "</div>"
      ],
      "text/plain": [
       "           Start date            End date  Start station number  \\\n",
       "0 2017-10-01 15:23:25 2017-10-01 15:26:26                 31038   \n",
       "1 2017-10-01 15:42:57 2017-10-01 17:49:59                 31036   \n",
       "2 2017-10-02 06:37:10 2017-10-02 06:42:53                 31036   \n",
       "3 2017-10-02 08:56:45 2017-10-02 09:18:03                 31037   \n",
       "4 2017-10-02 18:23:48 2017-10-02 18:45:05                 31295   \n",
       "\n",
       "                          Start station  End station number  \\\n",
       "0                  Glebe Rd & 11th St N               31036   \n",
       "1         George Mason Dr & Wilson Blvd               31036   \n",
       "2         George Mason Dr & Wilson Blvd               31037   \n",
       "3  Ballston Metro / N Stuart & 9th St N               31295   \n",
       "4                     Potomac & M St NW               31230   \n",
       "\n",
       "                            End station Bike number Member type  \n",
       "0         George Mason Dr & Wilson Blvd      W20529      Member  \n",
       "1         George Mason Dr & Wilson Blvd      W20529      Casual  \n",
       "2  Ballston Metro / N Stuart & 9th St N      W20529      Member  \n",
       "3                     Potomac & M St NW      W20529      Member  \n",
       "4         Metro Center / 12th & G St NW      W20529      Member  "
      ]
     },
     "execution_count": 80,
     "metadata": {},
     "output_type": "execute_result"
    }
   ],
   "source": [
    "import pandas as pd\n",
    "\n",
    "rides = pd.read_csv('Downloads/capital-onebike.csv', parse_dates = ['Start date', 'End date'])\n",
    "print(rides.iloc[0])\n",
    "\n",
    "rides.head()"
   ]
  },
  {
   "cell_type": "markdown",
   "id": "68ee8ac6",
   "metadata": {},
   "source": [
    "## making timedelta columns\n",
    "\n"
   ]
  },
  {
   "cell_type": "code",
   "execution_count": 83,
   "id": "e58bbeb8",
   "metadata": {},
   "outputs": [
    {
     "name": "stdout",
     "output_type": "stream",
     "text": [
      "0       181.0\n",
      "1      7622.0\n",
      "2       343.0\n",
      "3      1278.0\n",
      "4      1277.0\n",
      "        ...  \n",
      "285     651.0\n",
      "286     625.0\n",
      "287     279.0\n",
      "288     210.0\n",
      "289     610.0\n",
      "Name: Duration, Length: 290, dtype: float64\n"
     ]
    }
   ],
   "source": [
    "ride_durations = rides['End date'] - rides['Start date']\n",
    "\n",
    "rides['Duration'] = ride_durations.dt.total_seconds()\n",
    "\n",
    "print(rides['Duration'])"
   ]
  },
  {
   "cell_type": "markdown",
   "id": "28ea572b",
   "metadata": {},
   "source": [
    "## How many joy rides"
   ]
  },
  {
   "cell_type": "code",
   "execution_count": 89,
   "id": "510612d1",
   "metadata": {},
   "outputs": [
    {
     "name": "stdout",
     "output_type": "stream",
     "text": [
      "6 were joyrides\n",
      "THe median duration for all joyrides was 660.000000 seconds\n"
     ]
    },
    {
     "ename": "KeyError",
     "evalue": "'Duration'",
     "output_type": "error",
     "traceback": [
      "\u001b[1;31m---------------------------------------------------------------------------\u001b[0m",
      "\u001b[1;31mKeyError\u001b[0m                                  Traceback (most recent call last)",
      "Cell \u001b[1;32mIn[89], line 10\u001b[0m\n\u001b[0;32m      4\u001b[0m \u001b[38;5;28mprint\u001b[39m(\u001b[38;5;124m'\u001b[39m\u001b[38;5;132;01m{}\u001b[39;00m\u001b[38;5;124m were joyrides\u001b[39m\u001b[38;5;124m'\u001b[39m\u001b[38;5;241m.\u001b[39mformat(joyrides\u001b[38;5;241m.\u001b[39msum()))\n\u001b[0;32m      6\u001b[0m \u001b[38;5;28mprint\u001b[39m(\u001b[38;5;124m'\u001b[39m\u001b[38;5;124mTHe median duration for all joyrides was \u001b[39m\u001b[38;5;132;01m{:2f}\u001b[39;00m\u001b[38;5;124m seconds\u001b[39m\u001b[38;5;124m'\u001b[39m\\\n\u001b[0;32m      7\u001b[0m       \u001b[38;5;241m.\u001b[39mformat(rides[\u001b[38;5;124m'\u001b[39m\u001b[38;5;124mDuration\u001b[39m\u001b[38;5;124m'\u001b[39m]\u001b[38;5;241m.\u001b[39mmedian()))\n\u001b[0;32m      9\u001b[0m \u001b[38;5;28mprint\u001b[39m(\u001b[38;5;124m'\u001b[39m\u001b[38;5;124mThe median duration for joyrides was \u001b[39m\u001b[38;5;132;01m{:2f}\u001b[39;00m\u001b[38;5;124m seconds\u001b[39m\u001b[38;5;124m'\u001b[39m\\\n\u001b[1;32m---> 10\u001b[0m       \u001b[38;5;241m.\u001b[39mformat(rides[joyrides[\u001b[38;5;124m'\u001b[39m\u001b[38;5;124mDuration\u001b[39m\u001b[38;5;124m'\u001b[39m]]\u001b[38;5;241m.\u001b[39mmedian()))\n",
      "File \u001b[1;32mC:\\ProgramData\\anaconda3\\Lib\\site-packages\\pandas\\core\\series.py:981\u001b[0m, in \u001b[0;36mSeries.__getitem__\u001b[1;34m(self, key)\u001b[0m\n\u001b[0;32m    978\u001b[0m     \u001b[38;5;28;01mreturn\u001b[39;00m \u001b[38;5;28mself\u001b[39m\u001b[38;5;241m.\u001b[39m_values[key]\n\u001b[0;32m    980\u001b[0m \u001b[38;5;28;01melif\u001b[39;00m key_is_scalar:\n\u001b[1;32m--> 981\u001b[0m     \u001b[38;5;28;01mreturn\u001b[39;00m \u001b[38;5;28mself\u001b[39m\u001b[38;5;241m.\u001b[39m_get_value(key)\n\u001b[0;32m    983\u001b[0m \u001b[38;5;28;01mif\u001b[39;00m is_hashable(key):\n\u001b[0;32m    984\u001b[0m     \u001b[38;5;66;03m# Otherwise index.get_value will raise InvalidIndexError\u001b[39;00m\n\u001b[0;32m    985\u001b[0m     \u001b[38;5;28;01mtry\u001b[39;00m:\n\u001b[0;32m    986\u001b[0m         \u001b[38;5;66;03m# For labels that don't resolve as scalars like tuples and frozensets\u001b[39;00m\n",
      "File \u001b[1;32mC:\\ProgramData\\anaconda3\\Lib\\site-packages\\pandas\\core\\series.py:1089\u001b[0m, in \u001b[0;36mSeries._get_value\u001b[1;34m(self, label, takeable)\u001b[0m\n\u001b[0;32m   1086\u001b[0m     \u001b[38;5;28;01mreturn\u001b[39;00m \u001b[38;5;28mself\u001b[39m\u001b[38;5;241m.\u001b[39m_values[label]\n\u001b[0;32m   1088\u001b[0m \u001b[38;5;66;03m# Similar to Index.get_value, but we do not fall back to positional\u001b[39;00m\n\u001b[1;32m-> 1089\u001b[0m loc \u001b[38;5;241m=\u001b[39m \u001b[38;5;28mself\u001b[39m\u001b[38;5;241m.\u001b[39mindex\u001b[38;5;241m.\u001b[39mget_loc(label)\n\u001b[0;32m   1090\u001b[0m \u001b[38;5;28;01mreturn\u001b[39;00m \u001b[38;5;28mself\u001b[39m\u001b[38;5;241m.\u001b[39mindex\u001b[38;5;241m.\u001b[39m_get_values_for_loc(\u001b[38;5;28mself\u001b[39m, loc, label)\n",
      "File \u001b[1;32mC:\\ProgramData\\anaconda3\\Lib\\site-packages\\pandas\\core\\indexes\\range.py:395\u001b[0m, in \u001b[0;36mRangeIndex.get_loc\u001b[1;34m(self, key, method, tolerance)\u001b[0m\n\u001b[0;32m    393\u001b[0m             \u001b[38;5;28;01mraise\u001b[39;00m \u001b[38;5;167;01mKeyError\u001b[39;00m(key) \u001b[38;5;28;01mfrom\u001b[39;00m \u001b[38;5;21;01merr\u001b[39;00m\n\u001b[0;32m    394\u001b[0m     \u001b[38;5;28mself\u001b[39m\u001b[38;5;241m.\u001b[39m_check_indexing_error(key)\n\u001b[1;32m--> 395\u001b[0m     \u001b[38;5;28;01mraise\u001b[39;00m \u001b[38;5;167;01mKeyError\u001b[39;00m(key)\n\u001b[0;32m    396\u001b[0m \u001b[38;5;28;01mreturn\u001b[39;00m \u001b[38;5;28msuper\u001b[39m()\u001b[38;5;241m.\u001b[39mget_loc(key, method\u001b[38;5;241m=\u001b[39mmethod, tolerance\u001b[38;5;241m=\u001b[39mtolerance)\n",
      "\u001b[1;31mKeyError\u001b[0m: 'Duration'"
     ]
    }
   ],
   "source": [
    "joyrides = (rides['Start station'] == rides['End station'])\n",
    "\n",
    "\n",
    "print('{} were joyrides'.format(joyrides.sum()))\n",
    "\n",
    "print('THe median duration for all joyrides was {:2f} seconds'\\\n",
    "      .format(rides['Duration'].median()))\n",
    "\n",
    "print('The median duration for joyrides was {:2f} seconds'\\\n",
    "      .format(rides[joyrides['Duration']].median()))"
   ]
  },
  {
   "cell_type": "code",
   "execution_count": 91,
   "id": "03108fba",
   "metadata": {},
   "outputs": [
    {
     "data": {
      "image/png": "[encoded data removed]",
      "text/plain": [
       "<Figure size 640x480 with 1 Axes>"
      ]
     },
     "metadata": {},
     "output_type": "display_data"
    }
   ],
   "source": [
    "## Its getting cold outside\n",
    "\n",
    "import matplotlib.pyplot as plt\n",
    "%matplotlib inline\n",
    "\n",
    "rides.resample('D', on = 'Start date').size().plot(ylim= [0,15])\n",
    "\n",
    "plt.show()"
   ]
  },
  {
   "cell_type": "code",
   "execution_count": null,
   "id": "d5e477da",
   "metadata": {},
   "outputs": [],
   "source": []
  },
  {
   "cell_type": "code",
   "execution_count": 92,
   "id": "c20d1ca5",
   "metadata": {},
   "outputs": [
    {
     "data": {
      "image/png": "[encoded data removed]",
      "text/plain": [
       "<Figure size 640x480 with 1 Axes>"
      ]
     },
     "metadata": {},
     "output_type": "display_data"
    }
   ],
   "source": [
    "## Resample rides to monthly, take the sizze and plot the results\n",
    "rides.resample('M', on='Start date').size().plot(ylim= [0,150])\n",
    "\n",
    "plt.show()"
   ]
  },
  {
   "cell_type": "code",
   "execution_count": null,
   "id": "edf2d3e4",
   "metadata": {},
   "outputs": [],
   "source": []
  },
  {
   "cell_type": "markdown",
   "id": "b865f71f",
   "metadata": {},
   "source": [
    "## Members vs Casual riders over time"
   ]
  },
  {
   "cell_type": "code",
   "execution_count": 95,
   "id": "7900b66f",
   "metadata": {},
   "outputs": [
    {
     "name": "stdout",
     "output_type": "stream",
     "text": [
      "Start date  Member type\n",
      "2017-10-31  Member         0.768519\n",
      "            Casual         0.231481\n",
      "2017-11-30  Member         0.825243\n",
      "            Casual         0.174757\n",
      "2017-12-31  Member         0.860759\n",
      "            Casual         0.139241\n",
      "Name: Member type, dtype: float64\n"
     ]
    }
   ],
   "source": [
    "## Resample rides to monthly onthe basis of start date\n",
    "\n",
    "monthly_rides = rides.resample(\"M\", on ='Start date')['Member type']\n",
    "\n",
    "## The the ratio of .value_counts and total no.of rides\n",
    "\n",
    "print(monthly_rides.value_counts()/monthly_rides.size())"
   ]
  },
  {
   "cell_type": "code",
   "execution_count": 96,
   "id": "ac701bf2",
   "metadata": {},
   "outputs": [
    {
     "name": "stdout",
     "output_type": "stream",
     "text": [
      "Member type  Start date\n",
      "Casual       2017-10-31    1636.0\n",
      "             2017-11-30    1159.5\n",
      "             2017-12-31     850.0\n",
      "Member       2017-10-31     671.0\n",
      "             2017-11-30     655.0\n",
      "             2017-12-31     387.5\n",
      "Name: Duration, dtype: float64\n"
     ]
    }
   ],
   "source": [
    "## Combining group by and resample to month\n",
    "\n",
    "grouped = rides.groupby('Member type')\\\n",
    "        .resample('M', on = 'Start date')\n",
    "\n",
    "print(grouped['Duration'].median())"
   ]
  },
  {
   "cell_type": "code",
   "execution_count": 102,
   "id": "1c8378e6",
   "metadata": {},
   "outputs": [
    {
     "ename": "TypeError",
     "evalue": "Already tz-aware, use tz_convert to convert.",
     "output_type": "error",
     "traceback": [
      "\u001b[1;31m---------------------------------------------------------------------------\u001b[0m",
      "\u001b[1;31mTypeError\u001b[0m                                 Traceback (most recent call last)",
      "Cell \u001b[1;32mIn[102], line 4\u001b[0m\n\u001b[0;32m      1\u001b[0m \u001b[38;5;66;03m## Timezones in pandas\u001b[39;00m\n\u001b[0;32m      2\u001b[0m \u001b[38;5;28;01mfrom\u001b[39;00m \u001b[38;5;21;01mdateutil\u001b[39;00m \u001b[38;5;28;01mimport\u001b[39;00m tz\n\u001b[1;32m----> 4\u001b[0m rides[\u001b[38;5;124m'\u001b[39m\u001b[38;5;124mStart date\u001b[39m\u001b[38;5;124m'\u001b[39m] \u001b[38;5;241m=\u001b[39m rides[\u001b[38;5;124m'\u001b[39m\u001b[38;5;124mStart date\u001b[39m\u001b[38;5;124m'\u001b[39m]\u001b[38;5;241m.\u001b[39mdt\u001b[38;5;241m.\u001b[39mtz_localize(\u001b[38;5;124m'\u001b[39m\u001b[38;5;124mAmerica/New_york\u001b[39m\u001b[38;5;124m'\u001b[39m, ambiguous \u001b[38;5;241m=\u001b[39m \u001b[38;5;124m'\u001b[39m\u001b[38;5;124mNaT\u001b[39m\u001b[38;5;124m'\u001b[39m)\n\u001b[0;32m      6\u001b[0m \u001b[38;5;28mprint\u001b[39m(rides[\u001b[38;5;124m'\u001b[39m\u001b[38;5;124mStart date\u001b[39m\u001b[38;5;124m'\u001b[39m]\u001b[38;5;241m.\u001b[39miloc[\u001b[38;5;241m0\u001b[39m])\n\u001b[0;32m      8\u001b[0m rides[\u001b[38;5;124m'\u001b[39m\u001b[38;5;124mStart date\u001b[39m\u001b[38;5;124m'\u001b[39m] \u001b[38;5;241m=\u001b[39m rides[\u001b[38;5;124m'\u001b[39m\u001b[38;5;124mStart date\u001b[39m\u001b[38;5;124m'\u001b[39m]\u001b[38;5;241m.\u001b[39mdt\u001b[38;5;241m.\u001b[39mtz_convert(\u001b[38;5;124m'\u001b[39m\u001b[38;5;124mEurope/London\u001b[39m\u001b[38;5;124m'\u001b[39m)\n",
      "File \u001b[1;32mC:\\ProgramData\\anaconda3\\Lib\\site-packages\\pandas\\core\\accessor.py:94\u001b[0m, in \u001b[0;36mPandasDelegate._add_delegate_accessors.<locals>._create_delegator_method.<locals>.f\u001b[1;34m(self, *args, **kwargs)\u001b[0m\n\u001b[0;32m     93\u001b[0m \u001b[38;5;28;01mdef\u001b[39;00m \u001b[38;5;21mf\u001b[39m(\u001b[38;5;28mself\u001b[39m, \u001b[38;5;241m*\u001b[39margs, \u001b[38;5;241m*\u001b[39m\u001b[38;5;241m*\u001b[39mkwargs):\n\u001b[1;32m---> 94\u001b[0m     \u001b[38;5;28;01mreturn\u001b[39;00m \u001b[38;5;28mself\u001b[39m\u001b[38;5;241m.\u001b[39m_delegate_method(name, \u001b[38;5;241m*\u001b[39margs, \u001b[38;5;241m*\u001b[39m\u001b[38;5;241m*\u001b[39mkwargs)\n",
      "File \u001b[1;32mC:\\ProgramData\\anaconda3\\Lib\\site-packages\\pandas\\core\\indexes\\accessors.py:126\u001b[0m, in \u001b[0;36mProperties._delegate_method\u001b[1;34m(self, name, *args, **kwargs)\u001b[0m\n\u001b[0;32m    123\u001b[0m values \u001b[38;5;241m=\u001b[39m \u001b[38;5;28mself\u001b[39m\u001b[38;5;241m.\u001b[39m_get_values()\n\u001b[0;32m    125\u001b[0m method \u001b[38;5;241m=\u001b[39m \u001b[38;5;28mgetattr\u001b[39m(values, name)\n\u001b[1;32m--> 126\u001b[0m result \u001b[38;5;241m=\u001b[39m method(\u001b[38;5;241m*\u001b[39margs, \u001b[38;5;241m*\u001b[39m\u001b[38;5;241m*\u001b[39mkwargs)\n\u001b[0;32m    128\u001b[0m \u001b[38;5;28;01mif\u001b[39;00m \u001b[38;5;129;01mnot\u001b[39;00m is_list_like(result):\n\u001b[0;32m    129\u001b[0m     \u001b[38;5;28;01mreturn\u001b[39;00m result\n",
      "File \u001b[1;32mC:\\ProgramData\\anaconda3\\Lib\\site-packages\\pandas\\core\\indexes\\datetimes.py:281\u001b[0m, in \u001b[0;36mDatetimeIndex.tz_localize\u001b[1;34m(self, tz, ambiguous, nonexistent)\u001b[0m\n\u001b[0;32m    279\u001b[0m \u001b[38;5;129m@doc\u001b[39m(DatetimeArray\u001b[38;5;241m.\u001b[39mtz_localize)\n\u001b[0;32m    280\u001b[0m \u001b[38;5;28;01mdef\u001b[39;00m \u001b[38;5;21mtz_localize\u001b[39m(\u001b[38;5;28mself\u001b[39m, tz, ambiguous\u001b[38;5;241m=\u001b[39m\u001b[38;5;124m\"\u001b[39m\u001b[38;5;124mraise\u001b[39m\u001b[38;5;124m\"\u001b[39m, nonexistent\u001b[38;5;241m=\u001b[39m\u001b[38;5;124m\"\u001b[39m\u001b[38;5;124mraise\u001b[39m\u001b[38;5;124m\"\u001b[39m) \u001b[38;5;241m-\u001b[39m\u001b[38;5;241m>\u001b[39m DatetimeIndex:\n\u001b[1;32m--> 281\u001b[0m     arr \u001b[38;5;241m=\u001b[39m \u001b[38;5;28mself\u001b[39m\u001b[38;5;241m.\u001b[39m_data\u001b[38;5;241m.\u001b[39mtz_localize(tz, ambiguous, nonexistent)\n\u001b[0;32m    282\u001b[0m     \u001b[38;5;28;01mreturn\u001b[39;00m \u001b[38;5;28mtype\u001b[39m(\u001b[38;5;28mself\u001b[39m)\u001b[38;5;241m.\u001b[39m_simple_new(arr, name\u001b[38;5;241m=\u001b[39m\u001b[38;5;28mself\u001b[39m\u001b[38;5;241m.\u001b[39mname)\n",
      "File \u001b[1;32mC:\\ProgramData\\anaconda3\\Lib\\site-packages\\pandas\\core\\arrays\\_mixins.py:85\u001b[0m, in \u001b[0;36mravel_compat.<locals>.method\u001b[1;34m(self, *args, **kwargs)\u001b[0m\n\u001b[0;32m     82\u001b[0m \u001b[38;5;129m@wraps\u001b[39m(meth)\n\u001b[0;32m     83\u001b[0m \u001b[38;5;28;01mdef\u001b[39;00m \u001b[38;5;21mmethod\u001b[39m(\u001b[38;5;28mself\u001b[39m, \u001b[38;5;241m*\u001b[39margs, \u001b[38;5;241m*\u001b[39m\u001b[38;5;241m*\u001b[39mkwargs):\n\u001b[0;32m     84\u001b[0m     \u001b[38;5;28;01mif\u001b[39;00m \u001b[38;5;28mself\u001b[39m\u001b[38;5;241m.\u001b[39mndim \u001b[38;5;241m==\u001b[39m \u001b[38;5;241m1\u001b[39m:\n\u001b[1;32m---> 85\u001b[0m         \u001b[38;5;28;01mreturn\u001b[39;00m meth(\u001b[38;5;28mself\u001b[39m, \u001b[38;5;241m*\u001b[39margs, \u001b[38;5;241m*\u001b[39m\u001b[38;5;241m*\u001b[39mkwargs)\n\u001b[0;32m     87\u001b[0m     flags \u001b[38;5;241m=\u001b[39m \u001b[38;5;28mself\u001b[39m\u001b[38;5;241m.\u001b[39m_ndarray\u001b[38;5;241m.\u001b[39mflags\n\u001b[0;32m     88\u001b[0m     flat \u001b[38;5;241m=\u001b[39m \u001b[38;5;28mself\u001b[39m\u001b[38;5;241m.\u001b[39mravel(\u001b[38;5;124m\"\u001b[39m\u001b[38;5;124mK\u001b[39m\u001b[38;5;124m\"\u001b[39m)\n",
      "File \u001b[1;32mC:\\ProgramData\\anaconda3\\Lib\\site-packages\\pandas\\core\\arrays\\datetimes.py:982\u001b[0m, in \u001b[0;36mDatetimeArray.tz_localize\u001b[1;34m(self, tz, ambiguous, nonexistent)\u001b[0m\n\u001b[0;32m    980\u001b[0m         new_dates \u001b[38;5;241m=\u001b[39m tz_convert_from_utc(\u001b[38;5;28mself\u001b[39m\u001b[38;5;241m.\u001b[39masi8, \u001b[38;5;28mself\u001b[39m\u001b[38;5;241m.\u001b[39mtz)\n\u001b[0;32m    981\u001b[0m     \u001b[38;5;28;01melse\u001b[39;00m:\n\u001b[1;32m--> 982\u001b[0m         \u001b[38;5;28;01mraise\u001b[39;00m \u001b[38;5;167;01mTypeError\u001b[39;00m(\u001b[38;5;124m\"\u001b[39m\u001b[38;5;124mAlready tz-aware, use tz_convert to convert.\u001b[39m\u001b[38;5;124m\"\u001b[39m)\n\u001b[0;32m    983\u001b[0m \u001b[38;5;28;01melse\u001b[39;00m:\n\u001b[0;32m    984\u001b[0m     tz \u001b[38;5;241m=\u001b[39m timezones\u001b[38;5;241m.\u001b[39mmaybe_get_tz(tz)\n",
      "\u001b[1;31mTypeError\u001b[0m: Already tz-aware, use tz_convert to convert."
     ]
    }
   ],
   "source": [
    "## Timezones in pandas\n",
    "from dateutil import tz\n",
    "\n",
    "rides['Start date'] = rides['Start date'].dt.tz_localize('America/New_york', ambiguous = 'NaT')\n",
    "\n",
    "print(rides['Start date'].iloc[0])\n",
    "\n",
    "rides['Start date'] = rides['Start date'].dt.tz_convert('Europe/London')\n",
    "\n",
    "print(rides['Start date'].iloc[0])"
   ]
  },
  {
   "cell_type": "code",
   "execution_count": 105,
   "id": "2642ff46",
   "metadata": {},
   "outputs": [
    {
     "name": "stdout",
     "output_type": "stream",
     "text": [
      "Ride start week day\n",
      "Friday       724.5\n",
      "Monday       810.5\n",
      "Saturday     462.0\n",
      "Sunday       917.0\n",
      "Thursday     652.0\n",
      "Tuesday      641.5\n",
      "Wednesday    585.0\n",
      "Name: Duration, dtype: float64\n"
     ]
    }
   ],
   "source": [
    "## How long per weekday\n",
    "\n",
    "rides['Ride start week day'] = rides['Start date'].dt.day_name()\n",
    "\n",
    "print(rides.groupby('Ride start week day')['Duration'].median())"
   ]
  },
  {
   "cell_type": "markdown",
   "id": "5b8fa152",
   "metadata": {},
   "source": [
    "## How long between rides\n",
    "\n"
   ]
  },
  {
   "cell_type": "code",
   "execution_count": 107,
   "id": "e1fb70fe",
   "metadata": {},
   "outputs": [],
   "source": [
    "rides = pd.read_csv('Downloads/capital-onebike.csv', parse_dates = ['Start date', 'End date'])"
   ]
  },
  {
   "cell_type": "code",
   "execution_count": 108,
   "id": "9e75e35b",
   "metadata": {},
   "outputs": [
    {
     "name": "stdout",
     "output_type": "stream",
     "text": [
      "Start date\n",
      "2017-10-31    5.519242\n",
      "2017-11-30    7.256443\n",
      "2017-12-31    9.202380\n",
      "Freq: M, Name: Time Since, dtype: float64\n"
     ]
    }
   ],
   "source": [
    "## Shift the end date index to 0n3 step and subtract it from start date\n",
    "rides['Time Since'] = rides['Start date'] - (rides['End date'].shift(1))\n",
    "\n",
    "# Move from time delta to toal seconds\n",
    "\n",
    "rides['Time Since'] = rides['Time Since'].dt.total_seconds()\n",
    "\n",
    "## Resample to month \n",
    "monthly = rides.resample('M', on = 'Start date')\n",
    "\n",
    "## print the average rides for each month\n",
    "print(monthly['Time Since'].mean()/(60*60))"
   ]
  },
  {
   "cell_type": "code",
   "execution_count": null,
   "id": "c39fa82e",
   "metadata": {},
   "outputs": [],
   "source": []
  }
 ],
 "metadata": {
  "kernelspec": {
   "display_name": "Python 3 (ipykernel)",
   "language": "python",
   "name": "python3"
  },
  "language_info": {
   "codemirror_mode": {
    "name": "ipython",
    "version": 3
   },
   "file_extension": ".py",
   "mimetype": "text/x-python",
   "name": "python",
   "nbconvert_exporter": "python",
   "pygments_lexer": "ipython3",
   "version": "3.11.3"
  }
 },
 "nbformat": 4,
 "nbformat_minor": 5
}
