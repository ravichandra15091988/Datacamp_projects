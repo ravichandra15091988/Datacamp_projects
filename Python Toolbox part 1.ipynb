{
 "cells": [
  {
   "cell_type": "markdown",
   "id": "8811b005",
   "metadata": {},
   "source": [
    "## User Defined functions"
   ]
  },
  {
   "cell_type": "code",
   "execution_count": 1,
   "id": "32466836",
   "metadata": {},
   "outputs": [],
   "source": [
    "company = 'DataCamp'"
   ]
  },
  {
   "cell_type": "code",
   "execution_count": 4,
   "id": "2f5aeeeb",
   "metadata": {},
   "outputs": [
    {
     "data": {
      "text/plain": [
       "'data analysis visualization '"
      ]
     },
     "execution_count": 4,
     "metadata": {},
     "output_type": "execute_result"
    }
   ],
   "source": [
    "object1 = 'data ' + 'analysis ' + 'visualization '\n",
    "object1"
   ]
  },
  {
   "cell_type": "code",
   "execution_count": 7,
   "id": "9d2b80a6",
   "metadata": {},
   "outputs": [
    {
     "data": {
      "text/plain": [
       "3"
      ]
     },
     "execution_count": 7,
     "metadata": {},
     "output_type": "execute_result"
    }
   ],
   "source": [
    "object2 =  1 * 3\n",
    "object2"
   ]
  },
  {
   "cell_type": "code",
   "execution_count": 8,
   "id": "db7de9fc",
   "metadata": {},
   "outputs": [
    {
     "data": {
      "text/plain": [
       "'111'"
      ]
     },
     "execution_count": 8,
     "metadata": {},
     "output_type": "execute_result"
    }
   ],
   "source": [
    "object3 = '1' * 3\n",
    "object3"
   ]
  },
  {
   "cell_type": "code",
   "execution_count": 14,
   "id": "fd12026a",
   "metadata": {},
   "outputs": [],
   "source": [
    "## Writing your square function\n",
    "def square():\n",
    "    new_value = 4 ** 2\n",
    "    return new_value\n"
   ]
  },
  {
   "cell_type": "code",
   "execution_count": 17,
   "id": "87df065f",
   "metadata": {},
   "outputs": [
    {
     "name": "stdout",
     "output_type": "stream",
     "text": [
      "Congratulations!!!\n"
     ]
    }
   ],
   "source": [
    "def shout():\n",
    "    shout_word = 'Congratulations' + '!!!'\n",
    "    print(shout_word)\n",
    "\n",
    "shout()"
   ]
  },
  {
   "cell_type": "code",
   "execution_count": 19,
   "id": "447f6c62",
   "metadata": {},
   "outputs": [
    {
     "name": "stdout",
     "output_type": "stream",
     "text": [
      "congratulations!!!\n"
     ]
    }
   ],
   "source": [
    "## Single parameter functions\n",
    "def shout(word):\n",
    "    shout_word = word + '!!!'\n",
    "    print(shout_word)\n",
    "shout('congratulations')"
   ]
  },
  {
   "cell_type": "code",
   "execution_count": 2,
   "id": "e7957647",
   "metadata": {},
   "outputs": [
    {
     "name": "stdout",
     "output_type": "stream",
     "text": [
      "congratulations!!!\n"
     ]
    }
   ],
   "source": [
    "## Functions that return single values\n",
    "def shout(word):\n",
    "    shout_word = word + '!!!'\n",
    "    return shout_word\n",
    "yell = shout('congratulations')\n",
    "print(yell)\n"
   ]
  },
  {
   "cell_type": "code",
   "execution_count": 3,
   "id": "5e0b55af",
   "metadata": {},
   "outputs": [
    {
     "name": "stdout",
     "output_type": "stream",
     "text": [
      "congratulations!!!you!!!\n"
     ]
    }
   ],
   "source": [
    "## Functions with multiple parameters\n",
    "\n",
    "def shout(word1, word2):\n",
    "    \n",
    "    shout1 = word1 + '!!!'\n",
    "    shout2 = word2 + '!!!'\n",
    "    \n",
    "    new_shout = shout1 + shout2\n",
    "    \n",
    "    return new_shout\n",
    "yell = shout('congratulations', 'you')\n",
    "print(yell)"
   ]
  },
  {
   "cell_type": "code",
   "execution_count": 6,
   "id": "e74cca8c",
   "metadata": {},
   "outputs": [
    {
     "data": {
      "text/plain": [
       "(2, 3, 4)"
      ]
     },
     "execution_count": 6,
     "metadata": {},
     "output_type": "execute_result"
    }
   ],
   "source": [
    "nums = (3,4,6)\n",
    "num1, num2, num3 = nums\n",
    "\n",
    "even_nums = (2, num1, num2)\n",
    "even_nums"
   ]
  },
  {
   "cell_type": "code",
   "execution_count": 8,
   "id": "1e52ee77",
   "metadata": {},
   "outputs": [
    {
     "name": "stdout",
     "output_type": "stream",
     "text": [
      "congratulations!!! you!!!\n"
     ]
    }
   ],
   "source": [
    "## Functions that return multiple values\n",
    "def shout_all(word1, word2):\n",
    "    shout1 = word1 + '!!!'\n",
    "    shout2 = word2 + '!!!'\n",
    "    \n",
    "    shout_words = (shout1, shout2)\n",
    "    \n",
    "    return shout_words\n",
    "\n",
    "yell1, yell2 = shout_all('congratulations', 'you')\n",
    "\n",
    "print(yell1, yell2)"
   ]
  },
  {
   "cell_type": "code",
   "execution_count": 1,
   "id": "c6babcc8",
   "metadata": {},
   "outputs": [
    {
     "name": "stdout",
     "output_type": "stream",
     "text": [
      "{'en': 97, 'et': 1, 'und': 2}\n"
     ]
    }
   ],
   "source": [
    "## Bringing it altogether\n",
    "import pandas as pd\n",
    "\n",
    "df = pd.read_csv('Downloads/tweets.csv')\n",
    "\n",
    "langs_count ={}\n",
    "\n",
    "col = df['lang']\n",
    "\n",
    "for entry in col:\n",
    "    if entry in langs_count.keys():\n",
    "        langs_count[entry] += 1\n",
    "    else:\n",
    "        langs_count[entry] = 1\n",
    "        \n",
    "print(langs_count)"
   ]
  },
  {
   "cell_type": "raw",
   "id": "83620647",
   "metadata": {},
   "source": [
    "tweets_df = pd.read_csv('Downloads/tweets.csv')\n",
    "tweets_df.columns"
   ]
  },
  {
   "cell_type": "code",
   "execution_count": 4,
   "id": "f9d4f1ed",
   "metadata": {},
   "outputs": [
    {
     "name": "stdout",
     "output_type": "stream",
     "text": [
      "{'en': 97, 'et': 1, 'und': 2}\n"
     ]
    }
   ],
   "source": [
    "import pandas as pd\n",
    "tweets_df = pd.read_csv('Downloads/tweets.csv')\n",
    "\n",
    "\n",
    "# Define count_entries()\n",
    "def count_entries(df, col_name):\n",
    "    \"\"\"Return a dictionary with counts of \n",
    "    occurrences as value for each key.\"\"\"\n",
    "\n",
    "    # Initialize an empty dictionary: langs_count\n",
    "    langs_count = {}\n",
    "    \n",
    "    # Extract column from DataFrame: col\n",
    "    col = df[col_name]\n",
    "\n",
    "    # Iterate over lang column in DataFrame\n",
    "    for entry in col:\n",
    "\n",
    "        # If the language is in langs_count, add 1\n",
    "        if entry in langs_count.keys():\n",
    "            langs_count[entry] += 1\n",
    "        # Else add the language to langs_count, set the value to 1\n",
    "        else:\n",
    "            langs_count[entry] = 1\n",
    "\n",
    "    # Return the langs_count dictionary\n",
    "    return langs_count\n",
    "\n",
    "# Call count_entries(): result\n",
    "result = count_entries(tweets_df, 'lang')\n",
    "\n",
    "# Print the result\n",
    "print(result)"
   ]
  },
  {
   "cell_type": "markdown",
   "id": "37209af0",
   "metadata": {},
   "source": [
    "# Default arguments, variable-length arguments and scope"
   ]
  },
  {
   "cell_type": "markdown",
   "id": "ac24ac0c",
   "metadata": {},
   "source": [
    "## Scope and user-defined functions"
   ]
  },
  {
   "cell_type": "code",
   "execution_count": 29,
   "id": "fe34756e",
   "metadata": {},
   "outputs": [
    {
     "name": "stdout",
     "output_type": "stream",
     "text": [
      "teen titans\n"
     ]
    }
   ],
   "source": [
    "team = 'teen titans'\n",
    "\n",
    "def change_team():\n",
    "     global team\n",
    "     \n",
    "     team = 'justice league'\n",
    "        \n",
    "print(team)\n",
    "change_team()"
   ]
  },
  {
   "cell_type": "code",
   "execution_count": 28,
   "id": "56b9b6a4",
   "metadata": {},
   "outputs": [
    {
     "name": "stdout",
     "output_type": "stream",
     "text": [
      "justice league\n"
     ]
    }
   ],
   "source": [
    "print(team)"
   ]
  },
  {
   "cell_type": "markdown",
   "id": "8b1efd8d",
   "metadata": {},
   "source": [
    "# Nested Functions"
   ]
  },
  {
   "cell_type": "code",
   "execution_count": 30,
   "id": "9b7b38a7",
   "metadata": {},
   "outputs": [
    {
     "name": "stdout",
     "output_type": "stream",
     "text": [
      "('a!!!', 'b!!!', 'c!!!')\n"
     ]
    }
   ],
   "source": [
    "def three_shouts(word1, word2, word3):\n",
    "    \n",
    "    def inner(word):\n",
    "        \n",
    "        return word + '!!!'\n",
    "    \n",
    "    return (inner(word1), inner(word2), inner(word3))\n",
    "\n",
    "print(three_shouts('a','b','c'))\n",
    "    "
   ]
  },
  {
   "cell_type": "markdown",
   "id": "7aa15639",
   "metadata": {},
   "source": [
    "## Nested Functions II"
   ]
  },
  {
   "cell_type": "code",
   "execution_count": 31,
   "id": "0b68d4ed",
   "metadata": {},
   "outputs": [
    {
     "name": "stdout",
     "output_type": "stream",
     "text": [
      "hellohello hellohellohello\n"
     ]
    }
   ],
   "source": [
    "def echo(n):\n",
    "    \n",
    "    def inner_echo(word1):\n",
    "        \n",
    "        echo_word = word1 * n\n",
    "        return echo_word\n",
    "    return inner_echo\n",
    "\n",
    "twice = echo(2)\n",
    "thrice = echo(3)\n",
    "\n",
    "print(twice('hello'), thrice('hello'))"
   ]
  },
  {
   "cell_type": "markdown",
   "id": "c093d390",
   "metadata": {},
   "source": [
    "## The keyword nonlocal and nested functions\n"
   ]
  },
  {
   "cell_type": "code",
   "execution_count": 4,
   "id": "35015a6e",
   "metadata": {},
   "outputs": [
    {
     "name": "stdout",
     "output_type": "stream",
     "text": [
      "hellohello\n"
     ]
    },
    {
     "ename": "TypeError",
     "evalue": "echo_shout.<locals>.shout() missing 1 required positional argument: 'word'",
     "output_type": "error",
     "traceback": [
      "\u001b[1;31m---------------------------------------------------------------------------\u001b[0m",
      "\u001b[1;31mTypeError\u001b[0m                                 Traceback (most recent call last)",
      "Cell \u001b[1;32mIn[4], line 13\u001b[0m\n\u001b[0;32m     11\u001b[0m     shout()\n\u001b[0;32m     12\u001b[0m     \u001b[38;5;28mprint\u001b[39m(echo_word)\n\u001b[1;32m---> 13\u001b[0m echo_shout(\u001b[38;5;124m'\u001b[39m\u001b[38;5;124mhello\u001b[39m\u001b[38;5;124m'\u001b[39m)\n",
      "Cell \u001b[1;32mIn[4], line 11\u001b[0m, in \u001b[0;36mecho_shout\u001b[1;34m(word)\u001b[0m\n\u001b[0;32m      7\u001b[0m     \u001b[38;5;28;01mnonlocal\u001b[39;00m echo_word\n\u001b[0;32m      9\u001b[0m     echo_word \u001b[38;5;241m=\u001b[39m echo_word \u001b[38;5;241m+\u001b[39m \u001b[38;5;124m'\u001b[39m\u001b[38;5;124m!!!\u001b[39m\u001b[38;5;124m'\u001b[39m\n\u001b[1;32m---> 11\u001b[0m shout()\n\u001b[0;32m     12\u001b[0m \u001b[38;5;28mprint\u001b[39m(echo_word)\n",
      "\u001b[1;31mTypeError\u001b[0m: echo_shout.<locals>.shout() missing 1 required positional argument: 'word'"
     ]
    }
   ],
   "source": [
    "def echo_shout(word):\n",
    "    echo_word = word * 2\n",
    "    print(echo_word)\n",
    "    \n",
    "    # Defining inner function\n",
    "    def shout(word):\n",
    "        nonlocal echo_word\n",
    "        \n",
    "        echo_word = echo_word + '!!!'\n",
    "        \n",
    "    shout()\n",
    "    print(echo_word)\n",
    "    \n",
    "echo_shout('hello')"
   ]
  },
  {
   "cell_type": "code",
   "execution_count": 5,
   "id": "f63746ac",
   "metadata": {},
   "outputs": [
    {
     "name": "stdout",
     "output_type": "stream",
     "text": [
      "hellohello\n",
      "hellohello!!!\n"
     ]
    }
   ],
   "source": [
    "# Define echo_shout()\n",
    "def echo_shout(word):\n",
    "    \"\"\"Change the value of a nonlocal variable\"\"\"\n",
    "    \n",
    "    # Concatenate word with itself: echo_word\n",
    "    echo_word = word*2\n",
    "    \n",
    "    # Print echo_word\n",
    "    print(echo_word)\n",
    "    \n",
    "    # Define inner function shout()\n",
    "    def shout():\n",
    "        \"\"\"Alter a variable in the enclosing scope\"\"\"\n",
    "        \n",
    "        # Use echo_word in nonlocal scope\n",
    "        nonlocal echo_word\n",
    "        \n",
    "        # Change echo_word to echo_word concatenated with '!!!'\n",
    "        echo_word = echo_word + '!!!'\n",
    "    \n",
    "    # Call function shout()\n",
    "    shout()\n",
    "    \n",
    "    # Print echo_word\n",
    "    print(echo_word)\n",
    "\n",
    "# Call function echo_shout() with argument 'hello'\n",
    "echo_shout('hello')"
   ]
  },
  {
   "cell_type": "markdown",
   "id": "f7e8937c",
   "metadata": {},
   "source": [
    "## Flexible and default arguments\n"
   ]
  },
  {
   "cell_type": "code",
   "execution_count": 6,
   "id": "4f6b2a17",
   "metadata": {},
   "outputs": [
    {
     "name": "stdout",
     "output_type": "stream",
     "text": [
      "Hey!!!\n",
      "HeyHeyHeyHeyHey!!!\n"
     ]
    }
   ],
   "source": [
    "##Define shout_echo\n",
    "def shout_echo(word1, echo=1):\n",
    "    echo_word = word1 * echo\n",
    "    \n",
    "    shout_word = echo_word + '!!!'\n",
    "    \n",
    "    return shout_word\n",
    "\n",
    "no_echo = shout_echo('Hey')\n",
    "with_echo = shout_echo('Hey', echo = 5)\n",
    "\n",
    "print(no_echo)\n",
    "print(with_echo)\n",
    "    "
   ]
  },
  {
   "cell_type": "markdown",
   "id": "cb898c9b",
   "metadata": {},
   "source": [
    "## Functions with multiple default arguments"
   ]
  },
  {
   "cell_type": "code",
   "execution_count": 7,
   "id": "79d8b134",
   "metadata": {},
   "outputs": [
    {
     "name": "stdout",
     "output_type": "stream",
     "text": [
      "HEYHEYHEYHEYHEY!!!\n",
      "HeyHey!!!\n"
     ]
    }
   ],
   "source": [
    "def shout_echo(word1, echo = 1, intense = False):\n",
    "    echo_word = word1 * echo\n",
    "    \n",
    "    if intense is True:\n",
    "        echo_word_new = echo_word.upper() + '!!!'\n",
    "    else:\n",
    "        echo_word_new = echo_word + '!!!'\n",
    "    return echo_word_new\n",
    "\n",
    "with_big_echo = shout_echo(\"Hey\", echo =5, intense = True)\n",
    "without_big_echo = shout_echo(\"Hey\", echo = 2, intense = False)\n",
    "\n",
    "print(with_big_echo)\n",
    "print(without_big_echo)"
   ]
  },
  {
   "cell_type": "code",
   "execution_count": 10,
   "id": "14f4c912",
   "metadata": {},
   "outputs": [
    {
     "name": "stdout",
     "output_type": "stream",
     "text": [
      "Luke\n",
      "Luke leia han obi darth\n"
     ]
    }
   ],
   "source": [
    "## Functions with varaible length arguments (*args)\n",
    "def gibberish(*args):\n",
    "    \n",
    "    hodgepodge = \"\"\n",
    "    \n",
    "    for word in args:\n",
    "        hodgepodge += word\n",
    "        \n",
    "    return hodgepodge\n",
    "\n",
    "one_word = gibberish(\"Luke\")\n",
    "more_words = gibberish(\"Luke\", \" leia\",  \" han\", \" obi\", \" darth\")\n",
    "\n",
    "print(one_word)\n",
    "print(more_words)\n",
    "        "
   ]
  },
  {
   "cell_type": "code",
   "execution_count": 17,
   "id": "d40e70f3",
   "metadata": {},
   "outputs": [
    {
     "name": "stdout",
     "output_type": "stream",
     "text": [
      "\n",
      "BEGIN: REPORT\n",
      "\n",
      "name:luke\n",
      "affiliation:jedi\n",
      "status:missing\n",
      "\n",
      "END REPORT\n",
      "\n",
      "BEGIN: REPORT\n",
      "\n",
      "name:anakin\n",
      "affiliation:sith lord\n",
      "status:deceased\n",
      "\n",
      "END REPORT\n"
     ]
    }
   ],
   "source": [
    "## Functions with varaible length keyword arguments (*kwargs)\n",
    "def report_status(**kwargs):\n",
    "    \n",
    "    print(\"\\nBEGIN: REPORT\\n\")\n",
    "    \n",
    "    for key, value in kwargs.items():\n",
    "        print(key + ':'+ value)\n",
    "    print('\\nEND REPORT')\n",
    "report_status(name='luke', affiliation ='jedi', status = 'missing')\n",
    "col\n",
    "report_status(name=\"anakin\", affiliation=\"sith lord\", status=\"deceased\")"
   ]
  },
  {
   "cell_type": "code",
   "execution_count": 11,
   "id": "9badaea6",
   "metadata": {},
   "outputs": [
    {
     "name": "stdout",
     "output_type": "stream",
     "text": [
      "{'en': 1}\n",
      "{'<a href=\"http://twitter.com\" rel=\"nofollow\">Twitter Web Client</a>': 1}\n"
     ]
    }
   ],
   "source": [
    "def count_entries(df, col_name = 'lang'):\n",
    "    cols_count = {}\n",
    "    col = df[col_name]\n",
    "    \n",
    "    for entry in col:\n",
    "        if entry in cols_count.keys():\n",
    "            cols_count[entry] =+ 1\n",
    "        else:\n",
    "            cols_count[entry] = 1\n",
    "        return cols_count\n",
    "\n",
    "result1 = count_entries(tweets_df)\n",
    "print(result1)\n",
    "\n",
    "result2 = count_entries(tweets_df, col_name = 'source')\n",
    "print(result2)"
   ]
  },
  {
   "cell_type": "code",
   "execution_count": 17,
   "id": "f739d7b6",
   "metadata": {},
   "outputs": [
    {
     "name": "stdout",
     "output_type": "stream",
     "text": [
      "{'en': 97, 'et': 1, 'und': 2}\n",
      "{'en': 97, 'et': 1, 'und': 2, '<a href=\"http://twitter.com\" rel=\"nofollow\">Twitter Web Client</a>': 24, '<a href=\"http://www.facebook.com/twitter\" rel=\"nofollow\">Facebook</a>': 1, '<a href=\"http://twitter.com/download/android\" rel=\"nofollow\">Twitter for Android</a>': 26, '<a href=\"http://twitter.com/download/iphone\" rel=\"nofollow\">Twitter for iPhone</a>': 33, '<a href=\"http://www.twitter.com\" rel=\"nofollow\">Twitter for BlackBerry</a>': 2, '<a href=\"http://www.google.com/\" rel=\"nofollow\">Google</a>': 2, '<a href=\"http://twitter.com/#!/download/ipad\" rel=\"nofollow\">Twitter for iPad</a>': 6, '<a href=\"http://linkis.com\" rel=\"nofollow\">Linkis.com</a>': 2, '<a href=\"http://rutracker.org/forum/viewforum.php?f=93\" rel=\"nofollow\">newzlasz</a>': 2, '<a href=\"http://ifttt.com\" rel=\"nofollow\">IFTTT</a>': 1, '<a href=\"http://www.myplume.com/\" rel=\"nofollow\">Plume\\xa0for\\xa0Android</a>': 1}\n"
     ]
    }
   ],
   "source": [
    "# Define count_entries()\n",
    "def count_entries(df, *args):\n",
    "    \"\"\"Return a dictionary with counts of\n",
    "    occurrences as value for each key.\"\"\"\n",
    "    \n",
    "    #Initialize an empty dictionary: cols_count\n",
    "    cols_count = {}\n",
    "    \n",
    "    # Iterate over column names in args\n",
    "    for col_name in args:\n",
    "    \n",
    "        # Extract column from DataFrame: col\n",
    "        col = df[col_name]\n",
    "    \n",
    "        # Iterate over the column in DataFrame\n",
    "        for entry in col:\n",
    "    \n",
    "            # If entry is in cols_count, add 1\n",
    "            if entry in cols_count.keys():\n",
    "                cols_count[entry] += 1\n",
    "    \n",
    "            # Else add the entry to cols_count, set the value to 1\n",
    "            else:\n",
    "                cols_count[entry] = 1\n",
    "\n",
    "    # Return the cols_count dictionary\n",
    "    return cols_count\n",
    "\n",
    "# Call count_entries(): result1\n",
    "result1 = count_entries(tweets_df, 'lang')\n",
    "\n",
    "# Call count_entries(): result2\n",
    "result2 = count_entries(tweets_df, 'lang', 'source')\n",
    "\n",
    "# Print result1 and result2\n",
    "print(result1)\n",
    "print(result2)"
   ]
  },
  {
   "cell_type": "markdown",
   "id": "2e19fdb5",
   "metadata": {},
   "source": [
    "# Lambda Functions and Error Handling"
   ]
  },
  {
   "cell_type": "code",
   "execution_count": 23,
   "id": "b47219a0",
   "metadata": {},
   "outputs": [
    {
     "name": "stdout",
     "output_type": "stream",
     "text": [
      "heyheyheyheyhey\n"
     ]
    }
   ],
   "source": [
    "# Define echo_word as a lambda function: echo_word\n",
    "echo_word = (lambda word1, echo: word1 * echo)\n",
    "\n",
    "# Call echo_word: result\n",
    "result = echo_word('hey', 5)\n",
    "\n",
    "# Print result\n",
    "print(result)"
   ]
  },
  {
   "cell_type": "code",
   "execution_count": 25,
   "id": "0fd60612",
   "metadata": {},
   "outputs": [
    {
     "data": {
      "text/plain": [
       "'hey  hey  hey  hey  hey  hey  hey  hey  hey  hey  hey  hey  hey  hey  hey  hey  hey  hey  hey  hey  hey  hey  hey  hey  hey  hey  hey  hey  hey  hey  hey  hey  hey  hey  hey  hey  hey  hey  hey  hey  hey  hey  hey  hey  hey  hey  hey  hey  hey  hey  '"
      ]
     },
     "execution_count": 25,
     "metadata": {},
     "output_type": "execute_result"
    }
   ],
   "source": [
    "echo_word = (lambda word1, echo: word1 * echo)\n",
    "\n",
    "result = echo_word('hey  ', 50)\n",
    "\n",
    "result"
   ]
  },
  {
   "cell_type": "code",
   "execution_count": 27,
   "id": "05d94d98",
   "metadata": {},
   "outputs": [
    {
     "name": "stdout",
     "output_type": "stream",
     "text": [
      "<map object at 0x0000026E79D3F280>\n"
     ]
    }
   ],
   "source": [
    "# Map and lambda functions\n",
    "\n",
    "nums = [2,4,4,5,6,6,7,8]\n",
    "\n",
    "result = map(lambda a: a ** 2, nums)\n",
    "\n",
    "print(result)"
   ]
  },
  {
   "cell_type": "code",
   "execution_count": 29,
   "id": "da9c57b5",
   "metadata": {},
   "outputs": [
    {
     "name": "stdout",
     "output_type": "stream",
     "text": [
      "['protego !!!!!', 'accio !!!!!', 'expecto patronum !!!!!', 'legilimens !!!!!']\n"
     ]
    }
   ],
   "source": [
    "spells = ['protego', 'accio', 'expecto patronum', 'legilimens']\n",
    "\n",
    "result = map(lambda item: item + ' !!!!!', spells)\n",
    "\n",
    "result_list = list(result)\n",
    "\n",
    "print(result_list)"
   ]
  },
  {
   "cell_type": "code",
   "execution_count": 30,
   "id": "89f0b7cc",
   "metadata": {},
   "outputs": [
    {
     "data": {
      "text/plain": [
       "['samwise', 'aragorn', 'boromir', 'legolas', 'gandalf']"
      ]
     },
     "execution_count": 30,
     "metadata": {},
     "output_type": "execute_result"
    }
   ],
   "source": [
    "## Filterfellowship and Lambda \n",
    "\n",
    "fellowship = ['frodo', 'samwise', 'merry', 'pippin', 'aragorn', 'boromir', 'legolas', 'gimli', 'gandalf']\n",
    "\n",
    "result = filter(lambda item: len(item) > 6, fellowship)\n",
    "\n",
    "result_list = list(result)\n",
    "\n",
    "result_list"
   ]
  },
  {
   "cell_type": "code",
   "execution_count": 34,
   "id": "b9fdc508",
   "metadata": {},
   "outputs": [
    {
     "data": {
      "text/plain": [
       "'robb sansa arya brandon rickon'"
      ]
     },
     "execution_count": 34,
     "metadata": {},
     "output_type": "execute_result"
    }
   ],
   "source": [
    "from functools import reduce\n",
    "\n",
    "stark = ['robb', ' sansa', ' arya', ' brandon', ' rickon']\n",
    "\n",
    "result = reduce(lambda item1, item2: item1 + item2, stark)\n",
    "result"
   ]
  },
  {
   "cell_type": "code",
   "execution_count": 36,
   "id": "284d168f",
   "metadata": {},
   "outputs": [
    {
     "data": {
      "text/plain": [
       "'aragornaragornaragornaragornaragorn!!!!!'"
      ]
     },
     "execution_count": 36,
     "metadata": {},
     "output_type": "execute_result"
    }
   ],
   "source": [
    "# Error Handling with Try except\n",
    "\n",
    "def shout_echo(word1, echo = 5):\n",
    "    \n",
    "    echo_word = ' '\n",
    "    shout_words = ' '\n",
    "    \n",
    "    try:\n",
    "        echo_word = word1 * echo\n",
    "        \n",
    "        shout_words = echo_word + '!!!!!'\n",
    "        \n",
    "    except:\n",
    "        \n",
    "        print('Word1 is a string and echo must be a integer')\n",
    "    \n",
    "    return shout_words\n",
    "\n",
    "shout_echo('aragorn', 5)"
   ]
  },
  {
   "cell_type": "code",
   "execution_count": 42,
   "id": "e77b122c",
   "metadata": {},
   "outputs": [
    {
     "data": {
      "text/plain": [
       "'GandalfGandalfGandalfGandalfGandalfGandalf !!!!'"
      ]
     },
     "execution_count": 42,
     "metadata": {},
     "output_type": "execute_result"
    }
   ],
   "source": [
    "## Error Handling by Raise\n",
    "\n",
    "def shout_echo(word1, echo = 1):\n",
    "    \n",
    "    if echo < 0:\n",
    "        raise ValueError('Echo must be greater than or equal to zero')\n",
    "    echo_word = word1 * echo\n",
    "    shout_word = echo_word + ' !!!!'\n",
    "        \n",
    "    return shout_word\n",
    "\n",
    "result = shout_echo('Gandalf', 6)\n",
    "result"
   ]
  },
  {
   "cell_type": "code",
   "execution_count": 43,
   "id": "637b425c",
   "metadata": {},
   "outputs": [
    {
     "name": "stdout",
     "output_type": "stream",
     "text": [
      "<function <lambda> at 0x0000026E79DC5D00>\n",
      "0     RT @bpolitics: .@krollbondrating's Christopher...\n",
      "1     RT @HeidiAlpine: @dmartosko Cruz video found.....\n",
      "2     Njihuni me Zonjën Trump !!! | Ekskluzive https...\n",
      "3     Your an idiot she shouldn't have tried to grab...\n",
      "4     RT @AlanLohner: The anti-American D.C. elites ...\n",
      "                            ...                        \n",
      "95    RT @claytoncubitt: Stop asking Bernie supporte...\n",
      "96    Kasich is gonna fuck this up for Ted Cruz  htt...\n",
      "97    RT @akaMaude13: Seriously can't make this up. ...\n",
      "98    Kasich is gonna fuck this up for Ted Cruz  htt...\n",
      "99    @marklevinshow try reporting this truth. https...\n",
      "Name: text, Length: 100, dtype: object\n"
     ]
    }
   ],
   "source": [
    "## Bringing it altogether 1\n",
    "\n",
    "result = (lambda x: x[0:2]== 'RT', tweets_df['text'])\n",
    "\n",
    "result_list = list(result)\n",
    "\n",
    "for tweet in result_list:\n",
    "    print(tweet)"
   ]
  },
  {
   "cell_type": "code",
   "execution_count": 45,
   "id": "e18a3767",
   "metadata": {},
   "outputs": [
    {
     "name": "stdout",
     "output_type": "stream",
     "text": [
      "The DataFrame does not have a lang1 column.\n"
     ]
    }
   ],
   "source": [
    "## Brining it altogether 2\n",
    "\n",
    "def count_entries(df, col_name = 'lang'):\n",
    "    \n",
    "    cols_count = { }\n",
    "    \n",
    "    try:\n",
    "        col = df[col_name]\n",
    "        for entry in col:\n",
    "            \n",
    "            if entry in cols_count.keys():\n",
    "                cols_count[entry] += 1\n",
    "            else:\n",
    "                cols_count[entry] = 1\n",
    "                \n",
    "        return cols_count\n",
    "    \n",
    "    except:\n",
    "        print('The DataFrame does not have a ' + col_name + ' column.')\n",
    "        \n",
    "result = count_entries(tweets_df, 'lang1')\n",
    "result"
   ]
  },
  {
   "cell_type": "code",
   "execution_count": 50,
   "id": "24c2e110",
   "metadata": {},
   "outputs": [
    {
     "ename": "ValueError",
     "evalue": "The DataFrame does not have a lang2 column.",
     "output_type": "error",
     "traceback": [
      "\u001b[1;31m---------------------------------------------------------------------------\u001b[0m",
      "\u001b[1;31mValueError\u001b[0m                                Traceback (most recent call last)",
      "Cell \u001b[1;32mIn[50], line 21\u001b[0m\n\u001b[0;32m     17\u001b[0m             cols_count[entry] \u001b[38;5;241m=\u001b[39m \u001b[38;5;241m1\u001b[39m\n\u001b[0;32m     19\u001b[0m     \u001b[38;5;28;01mreturn\u001b[39;00m cols_count\n\u001b[1;32m---> 21\u001b[0m result \u001b[38;5;241m=\u001b[39m count_entries(tweets_df, \u001b[38;5;124m'\u001b[39m\u001b[38;5;124mlang2\u001b[39m\u001b[38;5;124m'\u001b[39m)\n\u001b[0;32m     22\u001b[0m result\n",
      "Cell \u001b[1;32mIn[50], line 6\u001b[0m, in \u001b[0;36mcount_entries\u001b[1;34m(df, col_name)\u001b[0m\n\u001b[0;32m      4\u001b[0m \u001b[38;5;28;01mdef\u001b[39;00m \u001b[38;5;21mcount_entries\u001b[39m(df, col_name \u001b[38;5;241m=\u001b[39m \u001b[38;5;124m'\u001b[39m\u001b[38;5;124mlang\u001b[39m\u001b[38;5;124m'\u001b[39m):\n\u001b[0;32m      5\u001b[0m     \u001b[38;5;28;01mif\u001b[39;00m col_name \u001b[38;5;129;01mnot\u001b[39;00m \u001b[38;5;129;01min\u001b[39;00m df\u001b[38;5;241m.\u001b[39mcolumns:\n\u001b[1;32m----> 6\u001b[0m         \u001b[38;5;28;01mraise\u001b[39;00m \u001b[38;5;167;01mValueError\u001b[39;00m(\u001b[38;5;124m'\u001b[39m\u001b[38;5;124mThe DataFrame does not have a \u001b[39m\u001b[38;5;124m'\u001b[39m \u001b[38;5;241m+\u001b[39m col_name \u001b[38;5;241m+\u001b[39m \u001b[38;5;124m'\u001b[39m\u001b[38;5;124m column.\u001b[39m\u001b[38;5;124m'\u001b[39m)\n\u001b[0;32m      8\u001b[0m     cols_count \u001b[38;5;241m=\u001b[39m { }\n\u001b[0;32m     10\u001b[0m     col \u001b[38;5;241m=\u001b[39m df[col_name]\n",
      "\u001b[1;31mValueError\u001b[0m: The DataFrame does not have a lang2 column."
     ]
    }
   ],
   "source": [
    "## Bringing it altogether 3\n",
    "\n",
    "\n",
    "def count_entries(df, col_name = 'lang'):\n",
    "    if col_name not in df.columns:\n",
    "        raise ValueError('The DataFrame does not have a ' + col_name + ' column.')\n",
    "    \n",
    "    cols_count = { }\n",
    "    \n",
    "    col = df[col_name]\n",
    "    \n",
    "    for entry in col:\n",
    "            \n",
    "        if entry in cols_count.keys():\n",
    "            cols_count[entry] += 1\n",
    "        else:\n",
    "            cols_count[entry] = 1\n",
    "                \n",
    "    return cols_count\n",
    "        \n",
    "result = count_entries(tweets_df, 'lang2')\n",
    "result"
   ]
  },
  {
   "cell_type": "code",
   "execution_count": null,
   "id": "2d4c4f0b",
   "metadata": {},
   "outputs": [],
   "source": []
  }
 ],
 "metadata": {
  "kernelspec": {
   "display_name": "Python 3 (ipykernel)",
   "language": "python",
   "name": "python3"
  },
  "language_info": {
   "codemirror_mode": {
    "name": "ipython",
    "version": 3
   },
   "file_extension": ".py",
   "mimetype": "text/x-python",
   "name": "python",
   "nbconvert_exporter": "python",
   "pygments_lexer": "ipython3",
   "version": "3.11.3"
  }
 },
 "nbformat": 4,
 "nbformat_minor": 5
}
